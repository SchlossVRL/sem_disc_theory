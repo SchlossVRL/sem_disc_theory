{
 "cells": [
  {
   "cell_type": "markdown",
   "id": "secret-national",
   "metadata": {},
   "source": [
    "## Context Matters: A Theory of Semantic Discriminability for Perceptual Encoding Systems\n",
    "### Laurent Lessard & Kushin Mukherjee"
   ]
  },
  {
   "cell_type": "code",
   "execution_count": null,
   "id": "sensitive-token",
   "metadata": {},
   "outputs": [],
   "source": [
    "%matplotlib inline \n",
    "import numpy as np\n",
    "import pandas as pd\n",
    "import scipy\n",
    "from scipy.optimize import linear_sum_assignment\n",
    "import seaborn as sns\n",
    "from matplotlib import pyplot as plt\n",
    "from matplotlib import cm\n",
    "import math\n",
    "import seaborn as sns\n",
    "import warnings\n",
    "import os\n",
    "from scipy import stats\n",
    "import seaborn as sns\n",
    "\n",
    "warnings.filterwarnings('ignore')\n",
    "\n",
    "\n",
    "\n"
   ]
  },
  {
   "cell_type": "code",
   "execution_count": null,
   "id": "round-breathing",
   "metadata": {},
   "outputs": [],
   "source": [
    "\"\"\"\n",
    "Input is a m x n array of (concepts) x (colors) filled with association ratings\n",
    "Output is a list of length m with the index of the color that should be associated with each concept\n",
    "\"\"\"\n",
    "def assignment_solve( ratings, method=\"balanced\" ):\n",
    "    m,n = ratings.shape\n",
    "    assert m <= n, \"More concepts than colors, assignment impossible!\"\n",
    "    \n",
    "    # isolated merit function (only considers target in isolation)\n",
    "    if method == \"isolated\":\n",
    "        merit_matrix = ratings\n",
    "    \n",
    "    # balanced merit function (balances ratings of target vs off-target objects with each color)\n",
    "    elif method == \"balanced\":\n",
    "        t = 1  # this is the penalty parameter. t=1 for balanced, t=0 recovers isolated case.\n",
    "        merit_matrix = np.zeros((m,n))\n",
    "        for i in range(m):\n",
    "            for j in range(n):\n",
    "                merit_matrix[i,j] = ratings[i,j] - t*ratings[np.arange(m)!=i,j].max()\n",
    "    \n",
    "    # baseline merit function (uniformly bad assignment)\n",
    "    elif method == \"baseline\":\n",
    "        merit_matrix = np.zeros((m,n))\n",
    "        for i in range(m):\n",
    "            for j in range(n):\n",
    "                merit_matrix[i,j] = -abs( ratings[i,j] - ratings[np.arange(m)!=i,j].max() )\n",
    "                \n",
    "    else:\n",
    "        assert False, \"unknown method in assignment problem\"\n",
    "        \n",
    "    row_ind, col_ind = linear_sum_assignment( merit_matrix, maximize=True )\n",
    "    return col_ind\n"
   ]
  },
  {
   "cell_type": "code",
   "execution_count": null,
   "id": "suspended-insured",
   "metadata": {},
   "outputs": [],
   "source": []
  },
  {
   "cell_type": "code",
   "execution_count": null,
   "id": "entertaining-estate",
   "metadata": {},
   "outputs": [],
   "source": [
    "p1 = ['corn','carrot','grape','banana']\n",
    "p2 =['sleeping','driving','peach','cherry']\n",
    "p3 = ['working','leisure','safety','comfort']\n",
    "p4 = ['eggplant','celery','efficiency','speed']\n",
    "p5= ['working','leisure','grape','banana']\n",
    "p6 = ['eggplant','celery','peach','cherry']\n",
    "p7 = ['corn','carrot','safety','comfort']\n",
    "p8 = ['sleeping','driving','efficiency','speed']\n",
    "\n",
    "\n",
    "p9 = ['corn','carrot','peach','cherry']\n",
    "p10 = ['sleeping','driving','grape','banana']\n",
    "p11 = ['working','leisure','efficiency','speed']\n",
    "p12 = ['eggplant','celery','safety','comfort']\n",
    "p13 = ['working','leisure','peach','cherry']\n",
    "p14 = ['eggplant','celery','grape','banana']\n",
    "p15 = ['corn','carrot','efficiency','speed',]\n",
    "p16 = ['sleeping','driving','safety','comfort']\n",
    "plist=[p1,p2,p3,p4,p5,p6,p7,p8,p9,p10,p11,p12,p13,p14,p15,p16]\n",
    "\n",
    "true_assignments =[\n",
    "    {\"banana\": \"#d0b85a\", \"carrot\": \"#cc4f1b\", \"corn\": \"#ffffff\", \"grape\": \"#512d5f\"},\n",
    "{\"cherry\": \"#ea1d1d\", \"driving\": \"#3efe44\", \"peach\": \"#f1a78a\", \"sleeping\": \"#512d5f\"},\n",
    "{\"comfort\": \"#a06776\", \"working\": \"#000000\", \"safety\": \"#55824d\", \"leisure\": \"#e81a4b\"},\n",
    "{\"celery\": \"#608218\", \"efficiency\": \"#5e78a1\", \"eggplant\": \"#600b84\", \"speed\": \"#e81a4b\"},\n",
    "{\"banana\": \"#fcdb42\", \"grape\": \"#600b84\", \"leisure\": \"#a0bae6\", \"working\": \"#3b3b3b\"},\n",
    "{\"celery\": \"#73cf10\", \"cherry\": \"#ea1d1d\", \"eggplant\": \"#600b84\", \"peach\": \"#f7a75a\"},\n",
    "{\"carrot\": \"#cc4f1b\", \"comfort\": \"#a06776\", \"corn\": \"#fcdb42\", \"safety\": \"#55824d\"},\n",
    "{\"driving\": \"#184415\", \"efficiency\": \"#7ec6ba\", \"sleeping\": \"#512d5f\", \"speed\": \"#e81a4b\"},\n",
    "\n",
    "{\"carrot\": \"#cc4f1b\", \"cherry\": \"#ea1d1d\", \"corn\": \"#d5b811\", \"peach\": \"#f1a78a\"},\n",
    "{\"banana\": \"#d0b85a\", \"driving\": \"#ea1d1d\", \"grape\": \"#b62ef2\", \"sleeping\": \"#1c3d61\"},\n",
    "{\"efficiency\": \"#ffffff\", \"leisure\": \"#90689f\", \"speed\": \"#e81a4b\", \"working\": \"#3b3b3b\"},\n",
    "{\"celery\": \"#0e8a19\", \"comfort\": \"#a06776\", \"eggplant\": \"#600b84\", \"safety\": \"#d0e942\"},\n",
    "{\"cherry\": \"#ea1d1d\", \"leisure\": \"#d5a9e4\", \"peach\": \"#f1a78a\", \"working\": \"#3b3b3b\"},\n",
    "{\"banana\": \"#fcdb42\", \"celery\": \"#8cf47e\", \"eggplant\": \"#000000\", \"grape\": \"#5e2b3a\"},\n",
    "{\"carrot\": \"#ac6619\", \"corn\": \"#d0b85a\", \"efficiency\": \"#5e78a1\", \"speed\": \"#e81a4b\"},\n",
    "{\"comfort\": \"#a06776\", \"driving\": \"#ea1d1d\", \"safety\": \"#d0e942\", \"sleeping\": \"#000000\"}\n",
    "]\n",
    " "
   ]
  },
  {
   "cell_type": "code",
   "execution_count": null,
   "id": "furnished-chester",
   "metadata": {},
   "outputs": [],
   "source": []
  },
  {
   "cell_type": "code",
   "execution_count": null,
   "id": "valued-registrar",
   "metadata": {},
   "outputs": [],
   "source": [
    "clean_df_f=pd.read_csv('data/clean_df_f.csv')"
   ]
  },
  {
   "cell_type": "code",
   "execution_count": null,
   "id": "imported-logic",
   "metadata": {},
   "outputs": [],
   "source": [
    "pal = []\n",
    "\n",
    "for i, row in clean_df_f.iterrows():\n",
    "    if row.condition == '0':\n",
    "        if row.category == '\"p1\"':\n",
    "            pal.append(0)\n",
    "        if row.category == '\"p2\"':\n",
    "            pal.append(1)\n",
    "        if row.category == '\"p3\"':\n",
    "            pal.append(2)\n",
    "        if row.category == '\"p4\"':\n",
    "            pal.append(3)\n",
    "        if row.category == '\"p5\"':\n",
    "            pal.append(4)\n",
    "        if row.category == '\"p6\"':\n",
    "            pal.append(5)\n",
    "        if row.category == '\"p7\"':\n",
    "            pal.append(6)\n",
    "        if row.category == '\"p8\"':\n",
    "            pal.append(7)\n",
    "    if row.condition == '1':\n",
    "        if row.category == '\"p1\"':\n",
    "            pal.append(8)\n",
    "        if row.category == '\"p2\"':\n",
    "            pal.append(9)\n",
    "        if row.category == '\"p3\"':\n",
    "            pal.append(10)\n",
    "        if row.category == '\"p4\"':\n",
    "            pal.append(11)\n",
    "        if row.category == '\"p5\"':\n",
    "            pal.append(12)\n",
    "        if row.category == '\"p6\"':\n",
    "            pal.append(13)\n",
    "        if row.category == '\"p7\"':\n",
    "            pal.append(14)\n",
    "        if row.category == '\"p8\"':\n",
    "            pal.append(15)\n",
    "\n",
    "\n",
    "clean_df_f['pal'] = pal"
   ]
  },
  {
   "cell_type": "code",
   "execution_count": null,
   "id": "centered-concert",
   "metadata": {},
   "outputs": [],
   "source": [
    "plot_df = clean_df_f.groupby(['bar_col','con_pal_conc','subject_id','category','condition','response' ]).\\\n",
    "apply(lambda x: len(x)/8).reset_index(name= 'num_times_picked')\n",
    "col_dict= {a:a for a in plot_df.bar_col.unique()}\n",
    "\n",
    "plot_df_backup = plot_df\n",
    "for pal in plot_df_backup.category.unique():\n",
    "    dp = plot_df_backup[plot_df_backup.category == pal]\n",
    "    for cond in dp.condition.unique():\n",
    "        dpp = dp[dp.condition==cond]\n",
    "        concepts = dpp.response.unique()\n",
    "        for col in dpp.bar_col.unique():\n",
    "            dppp = dpp[dpp.bar_col==col]\n",
    "            #concepts = dppp.response.unique()\n",
    "            for subj in dppp.subject_id.unique():\n",
    "                dp_ = dppp[dppp.subject_id==subj]\n",
    "                for conc in concepts:\n",
    "                    if not conc in dp_.response.unique():\n",
    "                        plot_df = plot_df.append(pd.DataFrame([[col,'NA',subj,pal,cond,conc,0]],columns = plot_df.columns))\n",
    "                        "
   ]
  },
  {
   "cell_type": "code",
   "execution_count": null,
   "id": "marine-abortion",
   "metadata": {},
   "outputs": [],
   "source": [
    "fig =plt.figure(figsize=(3,25))\n",
    "plt.rcParams['pdf.fonttype'] = 42\n",
    "sp=1\n",
    "for i in range(2):\n",
    "    for j in range(8):\n",
    "       \n",
    "    \n",
    "        pdf = plot_df[(plot_df.condition == f'{i}')&(plot_df.category ==f'\"p{j+1}\"')]\n",
    "        \n",
    "        hue_ord=[]\n",
    "        this_p = plist[((i*8)+j)]\n",
    "        for p in this_p:\n",
    "            hue_ord.append(true_assignments[((i*8)+j)][p])\n",
    "        \n",
    "    \n",
    "        #sns.set_theme(style=\"white\",rc = {'patch.linewidth': 0.5, 'patch.edgecolor':'black',})\n",
    "\n",
    "        g = sns.barplot(ax = fig.add_subplot(16,1,sp),\n",
    "            data=pdf,color = 'black',\n",
    "            x=\"response\", y=\"num_times_picked\", hue=\"bar_col\", palette =col_dict,\n",
    "            ci=68, order = plist[(i*8)+j], hue_order= hue_ord\n",
    "        )\n",
    "        plt.axhline( y=0.25, ls='--', c='black')\n",
    "        plt.xlabel('')\n",
    "        ax = plt.gca()\n",
    "        ax.get_legend().remove()\n",
    "        plt.ylabel('')\n",
    "        plt.ylim(0,1)\n",
    "        plt.yticks([0,0.5,1])\n",
    "        plt.tick_params(labelsize=10)\n",
    "        #plt.show()\n",
    "\n",
    "        \n",
    "        sp+=1\n",
    "plt.tight_layout()\n",
    "\n",
    "#plt.savefig(f'../human_data_faceted.pdf',format='pdf')\n",
    "    \n"
   ]
  },
  {
   "cell_type": "code",
   "execution_count": null,
   "id": "selected-holmes",
   "metadata": {},
   "outputs": [],
   "source": [
    "set_acc_df = clean_df_f.groupby(['condition','category'])\\\n",
    ".agg('mean').filter(items=['total_accuracy']).reset_index()\n",
    "model_set_acc = pd.read_csv('data/model_set_acc.csv')\n",
    "model_set_acc= model_set_acc.drop(columns= ['Unnamed: 0','mciter'])"
   ]
  },
  {
   "cell_type": "code",
   "execution_count": null,
   "id": "three-provincial",
   "metadata": {},
   "outputs": [],
   "source": [
    "p_df = set_acc_df.join(model_set_acc)\n",
    "#p_df.filter(['pal','total_accuracy']).to_csv('../setwise_accuracies.csv')"
   ]
  },
  {
   "cell_type": "code",
   "execution_count": null,
   "id": "round-handle",
   "metadata": {},
   "outputs": [],
   "source": [
    "plt.figure(figsize=(8,5))\n",
    "#sns.scatterplot(data=plot_df, x=\"total_accuracy\", y=\"total_acc\", marker = 'o')\n",
    "plt.scatter(p_df.total_accuracy, p_df.total_acc, marker= 'o',s=80)\n",
    "plt.xlim(1,4)\n",
    "plt.ylim(1,4)\n",
    "plt.tick_params(labelsize=20)\n",
    "plt.xlabel(\"setwise accuracy\",fontsize= 20)\n",
    "plt.ylabel(\"model prediction\",fontsize= 20)\n",
    "plt.axline((1, 1), (4, 4), linewidth=1, color='k', linestyle ='--')\n",
    "plt.title('human data vs. model predictions \\n for setwise accuracy', fontsize= 20)\n",
    "#plt.savefig('../setwise_fit.pdf', format = 'pdf')\n",
    "np.corrcoef(p_df['total_accuracy'],p_df['total_acc'])"
   ]
  },
  {
   "cell_type": "code",
   "execution_count": null,
   "id": "greater-junior",
   "metadata": {},
   "outputs": [],
   "source": []
  },
  {
   "cell_type": "code",
   "execution_count": null,
   "id": "simple-configuration",
   "metadata": {},
   "outputs": [],
   "source": [
    "all_item_accs = pd.read_csv('data/all_item_acc.csv')\n",
    "all_item_accs = all_item_accs.drop(columns= ['Unnamed: 0'])\n",
    "all_item_accs= all_item_accs.rename(columns = {'num_times_picked':'mean_prop_picked'})"
   ]
  },
  {
   "cell_type": "code",
   "execution_count": null,
   "id": "perfect-argentina",
   "metadata": {},
   "outputs": [],
   "source": [
    "pred_proportions = all_item_accs.mean_prop_picked\n",
    "\n",
    "pred_prop_0 = all_item_accs[all_item_accs.pal.isin([0,1,2,3,4,5,6,7])].mean_prop_picked\n",
    "pred_prop_1 = all_item_accs[all_item_accs.pal.isin([8,9,10,11,12,13,14,15])].mean_prop_picked\n",
    "\n"
   ]
  },
  {
   "cell_type": "code",
   "execution_count": null,
   "id": "acknowledged-poverty",
   "metadata": {},
   "outputs": [],
   "source": [
    "\n",
    "data_proportions = plot_df.groupby(['condition','category','response','bar_col']).\\\n",
    "apply(lambda x: np.mean(x.num_times_picked)).\\\n",
    "reset_index(name ='mean_prop_picked').mean_prop_picked\n"
   ]
  },
  {
   "cell_type": "code",
   "execution_count": null,
   "id": "particular-tourist",
   "metadata": {},
   "outputs": [],
   "source": [
    "plt.figure(figsize=(6,4))\n",
    "\n",
    "plt.scatter(data_proportions,pred_proportions, marker= 'o',s=80)\n",
    "plt.xlim(0,1)\n",
    "plt.ylim(0,1)\n",
    "plt.tick_params(labelsize=20)\n",
    "plt.xlabel(\"data\",fontsize= 20)\n",
    "plt.ylabel(\"model\",fontsize= 20)\n",
    "plt.axline((1, 1), (4, 4), linewidth=1, color='k', linestyle ='--')\n",
    "plt.title('human data vs. model predictions \\n for individual assignments', fontsize= 20)\n",
    "plt.savefig('../overall_fit.pdf', format = 'pdf')\n",
    "np.corrcoef(data_proportions,pred_proportions)\n"
   ]
  },
  {
   "cell_type": "code",
   "execution_count": null,
   "id": "spiritual-craft",
   "metadata": {},
   "outputs": [],
   "source": [
    "plt.figure(figsize=(6,4))\n",
    "\n",
    "plt.scatter(data_prop_1,pred_prop_1, marker= 'o',s=80)\n",
    "plt.xlim(0,1)\n",
    "plt.ylim(0,1)\n",
    "plt.tick_params(labelsize=20)\n",
    "plt.xlabel(\"data\",fontsize= 20)\n",
    "plt.ylabel(\"model\",fontsize= 20)\n",
    "plt.axline((1, 1), (4, 4), linewidth=1, color='k', linestyle ='--')\n",
    "plt.title('human data vs. model predictions \\n for individual assignments', fontsize= 20)\n",
    "#plt.savefig('../overall_fit.pdf', format = 'pdf')\n",
    "np.corrcoef(data_prop_1,pred_prop_1)\n"
   ]
  },
  {
   "cell_type": "code",
   "execution_count": null,
   "id": "balanced-faith",
   "metadata": {},
   "outputs": [],
   "source": [
    "plt.figure(figsize=(6,4))\n",
    "\n",
    "plt.scatter(data_prop_0,pred_prop_0, marker= 'o',s=80)\n",
    "plt.xlim(0,1)\n",
    "plt.ylim(0,1)\n",
    "plt.tick_params(labelsize=20)\n",
    "plt.xlabel(\"data\",fontsize= 20)\n",
    "plt.ylabel(\"model\",fontsize= 20)\n",
    "plt.axline((1, 1), (4, 4), linewidth=1, color='k', linestyle ='--')\n",
    "plt.title('human data vs. model predictions \\n for individual assignments', fontsize= 20)\n",
    "#plt.savefig('../overall_fit.pdf', format = 'pdf')\n",
    "np.corrcoef(data_prop_0,pred_prop_0)\n"
   ]
  },
  {
   "cell_type": "code",
   "execution_count": null,
   "id": "located-transcription",
   "metadata": {},
   "outputs": [],
   "source": []
  },
  {
   "cell_type": "code",
   "execution_count": null,
   "id": "specified-speaker",
   "metadata": {},
   "outputs": [],
   "source": []
  },
  {
   "cell_type": "code",
   "execution_count": null,
   "id": "southwest-mainstream",
   "metadata": {},
   "outputs": [],
   "source": [
    "t = clean_df_f.filter(items=['bar_col','answer','pal','con_pal_conc','accuracy']).sort_values(['answer','pal'])\n",
    "t['pal']= t['pal'].astype('string')\n",
    "t['pal_conc'] = t['pal']+t['answer']\n",
    "\n",
    "cdict_df = t.groupby(['pal_conc'])['bar_col'].agg(['max']).reset_index()\n",
    "cdict = dict(zip(cdict_df['pal_conc'].values.tolist(), cdict_df['max'].values.tolist()))\n",
    "#pd.DataFrame.from_dict(cdict,orient='index',columns=['hex']).rename_axis('pal_conc').reset_index().to_csv('../cdict.csv')\n",
    "item_df = clean_df_f.filter(items=['answer','pal','accuracy']).sort_values(['answer','pal'])"
   ]
  },
  {
   "cell_type": "code",
   "execution_count": null,
   "id": "extreme-visitor",
   "metadata": {},
   "outputs": [],
   "source": [
    "item_df['source'] = 'data'\n",
    "item_df['pal'] = item_df['pal'].astype('string')\n",
    "item_df = item_df.rename(columns = {'answer':'concept'})\n",
    "item_df['pal_conc'] = item_df['pal']+item_df['concept']\n",
    "model_item_df = pd.read_csv('data/model_item_df.csv')\n",
    "model_item_df = model_item_df.drop(columns = ['Unnamed: 0'])\n",
    "item_df_full = pd.concat([item_df, model_item_df])"
   ]
  },
  {
   "cell_type": "code",
   "execution_count": null,
   "id": "coral-biography",
   "metadata": {},
   "outputs": [],
   "source": [
    "item_df_full.reset_index(inplace=True) ### has model and data rows vertically stacked`"
   ]
  },
  {
   "cell_type": "code",
   "execution_count": null,
   "id": "retired-motel",
   "metadata": {},
   "outputs": [],
   "source": [
    "reg_df = clean_df_f.filter(items=['subject_id','answer','repetition','bar_col','pal','accuracy']).sort_values(['answer','pal'])\n",
    "\n",
    "reg_df['pal'] = reg_df['pal'].astype('string')\n",
    "reg_df = reg_df.rename(columns = {'answer':'concept'})\n",
    "reg_df['pal_conc'] = reg_df['pal']+reg_df['concept']\n",
    "reg_df_avg = reg_df.merge(model_item_df,on=\"pal_conc\")\n",
    "reg_df_avg = reg_df_avg.rename(columns = {'accuracy_y':'distance'})\n",
    "#reg_df_avg.to_csv('../reg_df_avg.csv')"
   ]
  },
  {
   "cell_type": "code",
   "execution_count": null,
   "id": "naval-merchant",
   "metadata": {},
   "outputs": [],
   "source": [
    "quartet_TVs = pd.read_csv('data/data/quartet_TVs_Hs.csv').iloc[:, 1:]\n",
    "all_sem_d = pd.read_csv('data/data/all_semdists.csv').iloc[:, 1:]\n",
    "all_sem_d.color1 = all_sem_d.apply(lambda x: x.color1.split('V')[1], axis=1)\n",
    "all_sem_d.color2 = all_sem_d.apply(lambda x: x.color2.split('V')[1], axis=1)\n"
   ]
  },
  {
   "cell_type": "code",
   "execution_count": null,
   "id": "northern-friendly",
   "metadata": {},
   "outputs": [],
   "source": []
  },
  {
   "cell_type": "code",
   "execution_count": null,
   "id": "quality-classroom",
   "metadata": {},
   "outputs": [],
   "source": []
  },
  {
   "cell_type": "code",
   "execution_count": null,
   "id": "friendly-wildlife",
   "metadata": {},
   "outputs": [],
   "source": []
  },
  {
   "cell_type": "code",
   "execution_count": null,
   "id": "gothic-burton",
   "metadata": {},
   "outputs": [],
   "source": []
  }
 ],
 "metadata": {
  "kernelspec": {
   "display_name": "Python 3",
   "language": "python",
   "name": "python3"
  },
  "language_info": {
   "codemirror_mode": {
    "name": "ipython",
    "version": 3
   },
   "file_extension": ".py",
   "mimetype": "text/x-python",
   "name": "python",
   "nbconvert_exporter": "python",
   "pygments_lexer": "ipython3",
   "version": "3.9.2"
  }
 },
 "nbformat": 4,
 "nbformat_minor": 5
}
